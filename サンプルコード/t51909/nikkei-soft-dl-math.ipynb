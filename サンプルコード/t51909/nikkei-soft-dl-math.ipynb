{
  "nbformat": 4,
  "nbformat_minor": 0,
  "metadata": {
    "colab": {
      "name": "nikkei_soft_0519_1.ipynb",
      "version": "0.3.2",
      "provenance": [],
      "collapsed_sections": []
    },
    "language_info": {
      "codemirror_mode": {
        "name": "ipython",
        "version": 3
      },
      "file_extension": ".py",
      "mimetype": "text/x-python",
      "name": "python",
      "nbconvert_exporter": "python",
      "pygments_lexer": "ipython3",
      "version": "3.7.3"
    },
    "kernelspec": {
      "display_name": "Python 3",
      "language": "python",
      "name": "python3"
    }
  },
  "cells": [
    {
      "cell_type": "markdown",
      "metadata": {
        "colab_type": "text",
        "id": "W2Cwle3IzM7Q"
      },
      "source": [
        ""
      ]
    },
    {
      "cell_type": "markdown",
      "metadata": {
        "colab_type": "text",
        "id": "D4Fh2MIgzP_l"
      },
      "source": [
        "# ディープラーニングを数学から理解する\n",
        "\n",
        "サンプルnotebook"
      ]
    },
    {
      "cell_type": "code",
      "metadata": {
        "colab_type": "code",
        "id": "kzEKKjsKz2qo",
        "colab": {}
      },
      "source": [
        "# 必要ライブラリの宣言\n",
        "%matplotlib inline\n",
        "import numpy as np\n",
        "import matplotlib.pyplot as plt\n",
        "\n",
        "# PDF出力用\n",
        "from IPython.display import set_matplotlib_formats\n",
        "set_matplotlib_formats('png', 'pdf')"
      ],
      "execution_count": 0,
      "outputs": []
    },
    {
      "cell_type": "code",
      "metadata": {
        "colab_type": "code",
        "id": "ijasSU2NzBWZ",
        "colab": {}
      },
      "source": [
        "# 学習データの設定 (numpy二次元配列)\n",
        "data = np.array([[166,58.7], [176,75.7], \n",
        "  [171,62.1], [173,70.4], [169,60.1]])\n",
        "\n",
        "# データの確認\n",
        "print(data)"
      ],
      "execution_count": 0,
      "outputs": []
    },
    {
      "cell_type": "code",
      "metadata": {
        "colab_type": "code",
        "id": "GRK7SMWqzJfP",
        "colab": {}
      },
      "source": [
        "# 散布図で表示 (図)\n",
        "plt.scatter(data[:,0], data[:,1], s=40, c='b')\n",
        "plt.grid()\n",
        "plt.show()"
      ],
      "execution_count": 0,
      "outputs": []
    },
    {
      "cell_type": "code",
      "metadata": {
        "colab_type": "code",
        "id": "os0_j874zRB8",
        "colab": {}
      },
      "source": [
        "# 身長、体重の平均値の計算\n",
        "mean = data.mean(axis=0)\n",
        "print(mean)"
      ],
      "execution_count": 0,
      "outputs": []
    },
    {
      "cell_type": "code",
      "metadata": {
        "id": "viUcmEgC4Ham",
        "colab_type": "code",
        "colab": {}
      },
      "source": [
        "mean2 = data.mean(axis=1)\n",
        "print(mean2)"
      ],
      "execution_count": 0,
      "outputs": []
    },
    {
      "cell_type": "code",
      "metadata": {
        "colab_type": "code",
        "id": "Z9DX99oo7IMY",
        "colab": {}
      },
      "source": [
        "# 元データの平行移動\n",
        "data1 = data - mean\n",
        "print(data1)"
      ],
      "execution_count": 0,
      "outputs": []
    },
    {
      "cell_type": "code",
      "metadata": {
        "colab_type": "code",
        "id": "db5fwgUo7LDu",
        "colab": {}
      },
      "source": [
        "# 平行移動後の散布図表示 (図1-8)\n",
        "plt.scatter(data1[:,0], data1[:,1], s=40, c='b')\n",
        "plt.plot([-6,6],[0,0], lw=2, c='k')\n",
        "plt.plot([0,0],[-8,12],lw=2,c='k')\n",
        "plt.xlim(-6,6)\n",
        "plt.ylim(-8,12)\n",
        "plt.grid()\n",
        "plt.show()"
      ],
      "execution_count": 0,
      "outputs": []
    },
    {
      "cell_type": "code",
      "metadata": {
        "colab_type": "code",
        "id": "bhPdJbKk78sJ",
        "colab": {}
      },
      "source": [
        "# 入力データの抽出\n",
        "# ダミー変数追加のため、\n",
        "# 1次元でなく5x1の2次元データにします。\n",
        "x1 = data1[:,0:1]\n",
        "print(x1)\n",
        "print(x1.shape)"
      ],
      "execution_count": 0,
      "outputs": []
    },
    {
      "cell_type": "code",
      "metadata": {
        "colab_type": "code",
        "id": "0CnwLwFzIg8z",
        "colab": {}
      },
      "source": [
        "# ダミー変数を追加\n",
        "x = np.insert(x1, 0, 1.0, axis=1)\n",
        "print('ダミー変数追加後')\n",
        "print(x)\n",
        "print(x.shape)"
      ],
      "execution_count": 0,
      "outputs": []
    },
    {
      "cell_type": "code",
      "metadata": {
        "colab_type": "code",
        "id": "f8qqF1fRItvK",
        "colab": {}
      },
      "source": [
        "# 正解データ\n",
        "yt = data1[:,1]\n",
        "print(yt)"
      ],
      "execution_count": 0,
      "outputs": []
    },
    {
      "cell_type": "code",
      "metadata": {
        "colab_type": "code",
        "id": "xHEVzqUEMGXw",
        "colab": {}
      },
      "source": [
        "# 予測関数 (1, x)の値から予測値ypを計算する\n",
        "def pred(x, w):\n",
        "    return(x @ w)"
      ],
      "execution_count": 0,
      "outputs": []
    },
    {
      "cell_type": "code",
      "metadata": {
        "colab_type": "code",
        "id": "9U3f3OUaNIgN",
        "colab": {}
      },
      "source": [
        "# 重みベクトルの初期値 (勝手な値を設定)\n",
        "w = np.array([2, -1])\n",
        "yp = pred(x, w)\n",
        "print(yp)"
      ],
      "execution_count": 0,
      "outputs": []
    },
    {
      "cell_type": "code",
      "metadata": {
        "colab_type": "code",
        "id": "--LEMemmNUaF",
        "colab": {}
      },
      "source": [
        "# 損失関数の計算\n",
        "yd = yp - yt\n",
        "L = np.mean(yd ** 2) / 2\n",
        "print(L)"
      ],
      "execution_count": 0,
      "outputs": []
    },
    {
      "cell_type": "code",
      "metadata": {
        "colab_type": "code",
        "id": "2TTjapr5WYl1",
        "colab": {}
      },
      "source": [
        "# 初期化処理\n",
        "\n",
        "# データ系列総数 (=5)\n",
        "M  = x.shape[0]\n",
        "\n",
        "# 入力データ次元数(ダミー変数を含む) (=2)\n",
        "D = x.shape[1]\n",
        "\n",
        "# 繰り返し回数\n",
        "iters = 200\n",
        "\n",
        "# 学習率\n",
        "alpha = 0.01\n",
        "\n",
        "# 重みベクトルの初期値 (勝手な値を設定)\n",
        "w = np.array([2, -1])\n",
        "\n",
        "# 評価結果記録用 (損失関数値, w0, w1を記録)\n",
        "history = np.zeros((0,4))"
      ],
      "execution_count": 0,
      "outputs": []
    },
    {
      "cell_type": "code",
      "metadata": {
        "colab_type": "code",
        "id": "rdQzAOeokft5",
        "colab": {}
      },
      "source": [
        "# 繰り返しループ\n",
        "for k in range(iters):\n",
        "    \n",
        "    # 予測値の計算\n",
        "    yp = pred(x, w)\n",
        "    \n",
        "    # 誤差の計算\n",
        "    yd = yp - yt\n",
        "    \n",
        "    # 勾配降下法の実装\n",
        "    w = w - alpha * (x.T @ yd) / M\n",
        "    \n",
        "    # 学習曲線描画用データの計算、保存\n",
        "\n",
        "    # 重みベクトル値の取得\n",
        "    w0 = float(w[0])\n",
        "    w1 = float(w[1])\n",
        "\n",
        "    # 損失関数値の計算\n",
        "    L = np.mean(yd ** 2) / 2\n",
        "    \n",
        "    # 計算結果の記録\n",
        "    line = np.array([k, L, w0, w1])\n",
        "    history = np.vstack((history, line))\n",
        "    \n",
        "    # 画面表示\n",
        "    print( \"iter = %d  L = %f w0 = %f w1 = %f\" \n",
        "          % (k, L, w0, w1))"
      ],
      "execution_count": 0,
      "outputs": []
    },
    {
      "cell_type": "code",
      "metadata": {
        "colab_type": "code",
        "id": "rVF7XDAXksTo",
        "colab": {}
      },
      "source": [
        "np.set_printoptions(precision=3)\n",
        "yp = pred(x, w)\n",
        "print('最終的な予測値')\n",
        "print(yp)\n",
        "print('正解値')\n",
        "print(yt)"
      ],
      "execution_count": 0,
      "outputs": []
    },
    {
      "cell_type": "code",
      "metadata": {
        "colab_type": "code",
        "id": "zqsnN8rjk1-5",
        "colab": {}
      },
      "source": [
        "# 学習曲線の表示\n",
        "plt.plot(history[:,0], history[:,1])\n",
        "plt.grid()\n",
        "plt.show()"
      ],
      "execution_count": 0,
      "outputs": []
    },
    {
      "cell_type": "code",
      "metadata": {
        "colab_type": "code",
        "id": "AzvN9CcXsgM6",
        "colab": {}
      },
      "source": [
        "# 散布図と回帰直線を同時表示\n",
        "\n",
        "X = np.array([[1, -6],[1, 6]])\n",
        "Y = pred(X, w)\n",
        "\n",
        "plt.scatter(data1[:,0], data1[:,1], s=40, c='b')\n",
        "plt.plot([-6, 6], Y, lw=2, c='k')\n",
        "plt.plot([-6,6],[0,0], lw=1, c='k')\n",
        "plt.plot([0,0],[-8,12],lw=1,c='k')\n",
        "plt.xlim(-6,6)\n",
        "plt.ylim(-8,12)\n",
        "plt.grid()\n",
        "plt.show()"
      ],
      "execution_count": 0,
      "outputs": []
    },
    {
      "cell_type": "code",
      "metadata": {
        "colab_type": "code",
        "id": "eSBjUL1Qwv1-",
        "colab": {}
      },
      "source": [
        "# アニメーション表示　初期化\n",
        "from matplotlib import animation, rc\n",
        "from IPython.display import HTML\n",
        "\n",
        "# 初期画面の描画\n",
        "fig, ax = plt.subplots()\n",
        "\n",
        "# x軸、y軸の範囲\n",
        "ax.set_xlim(( -6, 6))\n",
        "ax.set_ylim((-8, 12))\n",
        "\n",
        "# グラフ描画\n",
        "ax.plot([-6,6],[0,0], lw=2, c='k')\n",
        "ax.plot([0,0],[-8,12],lw=2,c='k')\n",
        "ax.grid()\n",
        "ax.scatter(data1[:,0], data1[:,1], s=40, c='b')\n",
        "\n",
        "# グラフの線は枠だけ用意しておきます。\n",
        "line, = ax.plot([], [], lw=2)"
      ],
      "execution_count": 0,
      "outputs": []
    },
    {
      "cell_type": "code",
      "metadata": {
        "colab_type": "code",
        "id": "7EpLTCJD0e0x",
        "colab": {}
      },
      "source": [
        "X0 = np.array([-6,6])\n",
        "X1 = np.array([[1, -6],[1, 6]])\n",
        "\n",
        "# 初期化関数\n",
        "def init():\n",
        "    line.set_data([], [])\n",
        "    return (line,)\n",
        "\n",
        "def animate(i):\n",
        "    l = history[i,:]\n",
        "    W = l[2:]\n",
        "    L = float(l[1])\n",
        "    w0 = float(l[2])\n",
        "    w1 = float(l[3])\n",
        "    Y = pred(X1, W)\n",
        "    line.set_data(X0, Y)\n",
        "    title = 'i = %3d  w0 = %6.3f w1 = %6.3f L = %6.3f' % (i, w0, w1, L)\n",
        "    ax.set_title(title)\n",
        "    return (line,)\n",
        "\n",
        "# アニメーションの定義\n",
        "anim = animation.FuncAnimation(fig, animate, init_func=init,\n",
        "                               frames=200, interval=100, blit=True, repeat=True)\n",
        "\n",
        "# アニメーションの描画\n",
        "HTML(anim.to_html5_video())"
      ],
      "execution_count": 0,
      "outputs": []
    },
    {
      "cell_type": "code",
      "metadata": {
        "colab_type": "code",
        "id": "9JQ6KvEr0mjW",
        "colab": {}
      },
      "source": [
        "# Scikit-learnのライブラリを使って線形回帰モデルを作成\n",
        "\n",
        "from sklearn import linear_model\n",
        "clf = linear_model.LinearRegression()\n",
        "\n",
        "# 予測モデルを作成\n",
        "clf.fit(x1, yt)\n",
        "\n",
        "# 切片と傾きの取得\n",
        "W0 = clf.intercept_\n",
        "W1 = clf.coef_\n",
        "print('パラメータ値比較')\n",
        "print('実習で求めた結果 w0 = %6.2f w1 = %6.2f' % (w0, w1))\n",
        "print('ライブラリの結果 w0 = %6.2f w1 = %6.2f' % (W0, W1))"
      ],
      "execution_count": 0,
      "outputs": []
    },
    {
      "cell_type": "code",
      "metadata": {
        "colab_type": "code",
        "id": "eI3SkeWh6DZ_",
        "colab": {}
      },
      "source": [
        ""
      ],
      "execution_count": 0,
      "outputs": []
    }
  ]
}